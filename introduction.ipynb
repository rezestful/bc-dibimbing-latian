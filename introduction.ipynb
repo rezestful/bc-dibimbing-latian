{
 "cells": [
  {
   "cell_type": "code",
   "execution_count": 3,
   "metadata": {},
   "outputs": [],
   "source": [
    "# variable dan values"
   ]
  },
  {
   "cell_type": "code",
   "execution_count": null,
   "metadata": {},
   "outputs": [],
   "source": [
    "# variable dan values\n",
    "\n",
    "- Values : suatu nilai yang ingin didefinisikan\n",
    "- Variable : sebuah penampung values yang bisa dipanggil kapan\n",
    "- fungsi = print sebuah built in function yang berfungsi untuk men-display baik values maupun variable"
   ]
  },
  {
   "cell_type": "code",
   "execution_count": 5,
   "metadata": {},
   "outputs": [
    {
     "data": {
      "text/plain": [
       "'Muhammad Reza'"
      ]
     },
     "execution_count": 5,
     "metadata": {},
     "output_type": "execute_result"
    }
   ],
   "source": [
    "\"Muhammad Reza\""
   ]
  },
  {
   "cell_type": "code",
   "execution_count": 6,
   "metadata": {},
   "outputs": [
    {
     "data": {
      "text/plain": [
       "31"
      ]
     },
     "execution_count": 6,
     "metadata": {},
     "output_type": "execute_result"
    }
   ],
   "source": [
    "31"
   ]
  },
  {
   "cell_type": "markdown",
   "metadata": {},
   "source": [
    "sebuah teks berupa markdown"
   ]
  },
  {
   "cell_type": "markdown",
   "metadata": {},
   "source": [
    "# Variable"
   ]
  },
  {
   "cell_type": "code",
   "execution_count": 8,
   "metadata": {},
   "outputs": [],
   "source": [
    "Nama = \"Reza\""
   ]
  },
  {
   "cell_type": "code",
   "execution_count": 9,
   "metadata": {},
   "outputs": [
    {
     "data": {
      "text/plain": [
       "'Reza'"
      ]
     },
     "execution_count": 9,
     "metadata": {},
     "output_type": "execute_result"
    }
   ],
   "source": [
    "Nama"
   ]
  },
  {
   "cell_type": "code",
   "execution_count": 19,
   "metadata": {},
   "outputs": [
    {
     "name": "stdout",
     "output_type": "stream",
     "text": [
      "Muhammad Reza 26\n"
     ]
    }
   ],
   "source": [
    "nama_saya = \"Muhammad Reza\"\n",
    "umur = 26   \n",
    "\n",
    "print (nama_saya,umur)"
   ]
  },
  {
   "cell_type": "markdown",
   "metadata": {},
   "source": [
    "# Custom Print"
   ]
  },
  {
   "cell_type": "code",
   "execution_count": 25,
   "metadata": {},
   "outputs": [
    {
     "name": "stdout",
     "output_type": "stream",
     "text": [
      "Halo nama saya Muhammad Reza Umur saya 26 tahun. \n",
      "Saat ini saya bekerja sebagai Junior Data Analyst \n",
      "Riwayat Pendidikan saya S1\n"
     ]
    }
   ],
   "source": [
    "# membuat profil sederhana\n",
    "nama = \"Muhammad Reza\"\n",
    "umur = 26\n",
    "pekerjaan = \"Junior Data Analyst\"\n",
    "riwayat_pendidikan = \"S1\"\n",
    "\n",
    "print(\"Halo nama saya\", nama,\"Umur saya\", umur, \"tahun.\",\"\\nSaat ini saya bekerja sebagai\", pekerjaan,\\\n",
    "      \"\\nRiwayat Pendidikan saya\", riwayat_pendidikan)"
   ]
  },
  {
   "cell_type": "code",
   "execution_count": 26,
   "metadata": {},
   "outputs": [
    {
     "data": {
      "text/plain": [
       "2"
      ]
     },
     "execution_count": 26,
     "metadata": {},
     "output_type": "execute_result"
    }
   ],
   "source": [
    "11 % 3"
   ]
  },
  {
   "cell_type": "code",
   "execution_count": 27,
   "metadata": {},
   "outputs": [
    {
     "data": {
      "text/plain": [
       "1"
      ]
     },
     "execution_count": 27,
     "metadata": {},
     "output_type": "execute_result"
    }
   ],
   "source": [
    "5 % 4"
   ]
  },
  {
   "cell_type": "code",
   "execution_count": 28,
   "metadata": {},
   "outputs": [
    {
     "data": {
      "text/plain": [
       "0"
      ]
     },
     "execution_count": 28,
     "metadata": {},
     "output_type": "execute_result"
    }
   ],
   "source": [
    "6 % 3"
   ]
  },
  {
   "cell_type": "code",
   "execution_count": 29,
   "metadata": {},
   "outputs": [
    {
     "data": {
      "text/plain": [
       "0"
      ]
     },
     "execution_count": 29,
     "metadata": {},
     "output_type": "execute_result"
    }
   ],
   "source": [
    "8 % 2"
   ]
  },
  {
   "cell_type": "code",
   "execution_count": 30,
   "metadata": {},
   "outputs": [
    {
     "data": {
      "text/plain": [
       "0"
      ]
     },
     "execution_count": 30,
     "metadata": {},
     "output_type": "execute_result"
    }
   ],
   "source": [
    "8 % 4"
   ]
  },
  {
   "cell_type": "code",
   "execution_count": 32,
   "metadata": {},
   "outputs": [
    {
     "name": "stdout",
     "output_type": "stream",
     "text": [
      "genap\n"
     ]
    }
   ],
   "source": [
    "# angka = 6\n",
    "\n",
    "# if angka%2 == 0:\n",
    "#     print(\"genap\")"
   ]
  },
  {
   "cell_type": "markdown",
   "metadata": {},
   "source": [
    "# Formatting\n",
    "    - formatting dengan .format()\n",
    "    - formatting dengan f"
   ]
  },
  {
   "cell_type": "code",
   "execution_count": 46,
   "metadata": {},
   "outputs": [
    {
     "name": "stdout",
     "output_type": "stream",
     "text": [
      "Hallo nama saya Muhammad Reza. \n",
      "Saat ini saya berusia 26 tahun. \n",
      "Saat ini saya bekerja sebagai Junior Data Analyst. \n",
      "Riwayat pendidikan saya adalah S1\n"
     ]
    }
   ],
   "source": [
    "# membuat profil sederhana\n",
    "nama = \"Muhammad Reza\"\n",
    "umur = 26\n",
    "pekerjaan = \"Junior Data Analyst\"\n",
    "riwayat_pendidikan = \"S1\"\n",
    "\n",
    "print(\"Hallo nama saya {}. \\nSaat ini saya berusia {} tahun. \\nSaat ini saya bekerja sebagai {}. \\nRiwayat pendidikan saya adalah {}\"\n",
    ".format(nama,umur,pekerjaan,riwayat_pendidikan)\n",
    ")"
   ]
  },
  {
   "cell_type": "code",
   "execution_count": 52,
   "metadata": {},
   "outputs": [
    {
     "name": "stdout",
     "output_type": "stream",
     "text": [
      "Hallo nama saya Muhammad Reza. \n",
      "Saat ini saya berusia 26 tahun. \n",
      "Saat ini saya bekerja sebagai Junior Data Analyst. \n",
      "Riwayat pendidikan saya adalah S1 Teknik Informatika\n"
     ]
    }
   ],
   "source": [
    "# formatting dengan f-string\n",
    "# membuat profil sederhana\n",
    "nama = \"Muhammad Reza\"\n",
    "umur = 26\n",
    "pekerjaan = \"Junior Data Analyst\"\n",
    "riwayat_pendidikan = \"S1\"\n",
    "\n",
    "print(f\"Hallo nama saya {nama}. \\nSaat ini saya berusia {umur} tahun. \\\n",
    "\\nSaat ini saya bekerja sebagai {pekerjaan}. \\nRiwayat pendidikan saya adalah {riwayat_pendidikan} Teknik Informatika\")"
   ]
  },
  {
   "cell_type": "markdown",
   "metadata": {},
   "source": [
    "# Percabangan Logika"
   ]
  },
  {
   "cell_type": "markdown",
   "metadata": {},
   "source": [
    "# Data Type"
   ]
  },
  {
   "cell_type": "markdown",
   "metadata": {},
   "source": [
    "- Text :\n",
    "    - String, semua yang ada tanda kutip nya. contoh: \"Reza\" <br>\n",
    "    \n",
    "- Numeric :\n",
    "    - Integer (bilangan bulat), biasa disingkat jadi int (semua bilangan bulat) <br>\n",
    "    - Float (bilangan desimal), bilangan decimal, contoh: 3.2\n",
    "\n",
    "- Boolean : tipe data benar dan salah.\n",
    "    - True\n",
    "    - False"
   ]
  },
  {
   "cell_type": "code",
   "execution_count": 53,
   "metadata": {},
   "outputs": [
    {
     "data": {
      "text/plain": [
       "int"
      ]
     },
     "execution_count": 53,
     "metadata": {},
     "output_type": "execute_result"
    }
   ],
   "source": [
    "angka = 31\n",
    "baca = \"Buku\"\n",
    "\n",
    "type(angka)"
   ]
  },
  {
   "cell_type": "code",
   "execution_count": 54,
   "metadata": {},
   "outputs": [
    {
     "data": {
      "text/plain": [
       "str"
      ]
     },
     "execution_count": 54,
     "metadata": {},
     "output_type": "execute_result"
    }
   ],
   "source": [
    "type(baca)"
   ]
  },
  {
   "cell_type": "markdown",
   "metadata": {},
   "source": [
    "# IF-ELIF-ELSE"
   ]
  },
  {
   "cell_type": "markdown",
   "metadata": {},
   "source": [
    "## AND OR\n",
    "AND\n",
    "\n",
    "TRUE AND TRUE = TRUE <br>\n",
    "TRUE AND FALSE = FALSE <br>\n",
    "FALSE AND TRUE = FALSE<br>\n",
    "FALSE AND FALSE = FALSE<br>\n",
    "\n",
    "OR\n",
    "\n",
    "TRUE OR TRUE = TRUE<br>\n",
    "TRUE OR FALSE = TRUE<br>\n",
    "FALSE OR TRUE = TRUE<br>\n",
    "FALSE OR FALSE = FALSE<br>"
   ]
  },
  {
   "cell_type": "code",
   "execution_count": 60,
   "metadata": {},
   "outputs": [
    {
     "name": "stdout",
     "output_type": "stream",
     "text": [
      "lulus cuy\n"
     ]
    }
   ],
   "source": [
    "nilai_1 = 90\n",
    "min_kelulusan = 80\n",
    "\n",
    "if nilai_1 >= min_kelulusan:\n",
    "    print (\"lulus cuy\")"
   ]
  },
  {
   "cell_type": "markdown",
   "metadata": {},
   "source": [
    "# IF - ELIF"
   ]
  },
  {
   "cell_type": "code",
   "execution_count": 61,
   "metadata": {},
   "outputs": [
    {
     "name": "stdout",
     "output_type": "stream",
     "text": [
      "yah belum lulus cuy\n"
     ]
    }
   ],
   "source": [
    "# IF\n",
    "\n",
    "nilai_1 = 90\n",
    "nilai_1 = 80\n",
    "nilai_1 = 75\n",
    "min_kelulusan = 80\n",
    "\n",
    "if nilai_3 >= min_kelulusan:\n",
    "    print (\"lulus cuy\")\n",
    "elif nilai_3 <= min_kelulusan:\n",
    "    print (\"yah belum lulus cuy\")"
   ]
  },
  {
   "cell_type": "markdown",
   "metadata": {},
   "source": [
    "# IF - ELIF - ELSE"
   ]
  },
  {
   "cell_type": "code",
   "execution_count": 63,
   "metadata": {},
   "outputs": [
    {
     "data": {
      "text/plain": [
       "str"
      ]
     },
     "execution_count": 63,
     "metadata": {},
     "output_type": "execute_result"
    }
   ],
   "source": [
    "nilai = input(\"Masukan nilai : \")\n",
    "type (nilai)"
   ]
  },
  {
   "cell_type": "code",
   "execution_count": 64,
   "metadata": {},
   "outputs": [
    {
     "data": {
      "text/plain": [
       "float"
      ]
     },
     "execution_count": 64,
     "metadata": {},
     "output_type": "execute_result"
    }
   ],
   "source": [
    "nilai = float(input(\"Masukan nilai student: \"))\n",
    "type(nilai)"
   ]
  },
  {
   "cell_type": "code",
   "execution_count": 65,
   "metadata": {},
   "outputs": [
    {
     "name": "stdout",
     "output_type": "stream",
     "text": [
      "Selamat nilai anda B\n"
     ]
    }
   ],
   "source": [
    "nilai = float(input(\"Masukan nilai Mahasiswa : \"))\n",
    "\n",
    "if nilai >= 80:\n",
    "    print(\"Selamat nilai anda A\")\n",
    "elif nilai >= 70: #rentang nilai dari 70-80\n",
    "    print(\"Selamat nilai anda B\")\n",
    "elif nilai >= 60: #rentang nilai dari 60-70\n",
    "    print(\"Selamat nilai anda C\")\n",
    "else:\n",
    "    print(\"yah belum lulus cuy, gimana nih\")"
   ]
  },
  {
   "cell_type": "code",
   "execution_count": null,
   "metadata": {},
   "outputs": [],
   "source": []
  }
 ],
 "metadata": {
  "kernelspec": {
   "display_name": "Python 3",
   "language": "python",
   "name": "python3"
  },
  "language_info": {
   "codemirror_mode": {
    "name": "ipython",
    "version": 3
   },
   "file_extension": ".py",
   "mimetype": "text/x-python",
   "name": "python",
   "nbconvert_exporter": "python",
   "pygments_lexer": "ipython3",
   "version": "3.12.6"
  }
 },
 "nbformat": 4,
 "nbformat_minor": 2
}
