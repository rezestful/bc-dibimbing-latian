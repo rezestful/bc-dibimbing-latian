{
 "cells": [
  {
   "cell_type": "markdown",
   "metadata": {},
   "source": [
    "## Assignment Day 6"
   ]
  },
  {
   "cell_type": "markdown",
   "metadata": {},
   "source": [
    "**1.** Plot barplot pada city, masih kurang informatif. Pertanyaan :\n",
    "1. Bagaimana caranya supaya Barplot memiliki tampilan informatif ?\n",
    "2. Tulis insightnya ya !\n",
    "\n",
    "`clue` nomer 1 : coba pahami tentang `value_counts`, ambil 10 atau 5 nilai teratas saja. kemudian buat barplot dan tulis insightnya (30 poin)\n",
    "\n",
    "`Penyelesaian`:"
   ]
  },
  {
   "cell_type": "code",
   "execution_count": 215,
   "metadata": {},
   "outputs": [
    {
     "data": {
      "text/html": [
       "<div>\n",
       "<style scoped>\n",
       "    .dataframe tbody tr th:only-of-type {\n",
       "        vertical-align: middle;\n",
       "    }\n",
       "\n",
       "    .dataframe tbody tr th {\n",
       "        vertical-align: top;\n",
       "    }\n",
       "\n",
       "    .dataframe thead th {\n",
       "        text-align: right;\n",
       "    }\n",
       "</style>\n",
       "<table border=\"1\" class=\"dataframe\">\n",
       "  <thead>\n",
       "    <tr style=\"text-align: right;\">\n",
       "      <th></th>\n",
       "      <th>Age</th>\n",
       "      <th>Salary</th>\n",
       "      <th>Height</th>\n",
       "      <th>Gender</th>\n",
       "      <th>Marital Status</th>\n",
       "      <th>Education Level</th>\n",
       "      <th>Job Satisfaction</th>\n",
       "      <th>City</th>\n",
       "      <th>Province</th>\n",
       "    </tr>\n",
       "  </thead>\n",
       "  <tbody>\n",
       "    <tr>\n",
       "      <th>0</th>\n",
       "      <td>47.457284</td>\n",
       "      <td>25867.758709</td>\n",
       "      <td>40.880220</td>\n",
       "      <td>Female</td>\n",
       "      <td>Married</td>\n",
       "      <td>Bachelor's</td>\n",
       "      <td>Low</td>\n",
       "      <td>Malang</td>\n",
       "      <td>Jawa Timur</td>\n",
       "    </tr>\n",
       "    <tr>\n",
       "      <th>1</th>\n",
       "      <td>39.202564</td>\n",
       "      <td>31171.212403</td>\n",
       "      <td>42.934217</td>\n",
       "      <td>Female</td>\n",
       "      <td>Single</td>\n",
       "      <td>Bachelor's</td>\n",
       "      <td>Low</td>\n",
       "      <td>Pontianak</td>\n",
       "      <td>Kalimantan Barat</td>\n",
       "    </tr>\n",
       "    <tr>\n",
       "      <th>2</th>\n",
       "      <td>49.419951</td>\n",
       "      <td>26938.438051</td>\n",
       "      <td>76.937048</td>\n",
       "      <td>Female</td>\n",
       "      <td>Divorced</td>\n",
       "      <td>Bachelor's</td>\n",
       "      <td>High</td>\n",
       "      <td>Depok</td>\n",
       "      <td>Jawa Barat</td>\n",
       "    </tr>\n",
       "    <tr>\n",
       "      <th>3</th>\n",
       "      <td>60.799388</td>\n",
       "      <td>38376.824337</td>\n",
       "      <td>33.346494</td>\n",
       "      <td>Female</td>\n",
       "      <td>Divorced</td>\n",
       "      <td>PhD</td>\n",
       "      <td>High</td>\n",
       "      <td>Bogor</td>\n",
       "      <td>Jawa Barat</td>\n",
       "    </tr>\n",
       "    <tr>\n",
       "      <th>4</th>\n",
       "      <td>37.956006</td>\n",
       "      <td>66077.876060</td>\n",
       "      <td>89.834535</td>\n",
       "      <td>Male</td>\n",
       "      <td>Divorced</td>\n",
       "      <td>Master's</td>\n",
       "      <td>High</td>\n",
       "      <td>Pontianak</td>\n",
       "      <td>Kalimantan Barat</td>\n",
       "    </tr>\n",
       "    <tr>\n",
       "      <th>...</th>\n",
       "      <td>...</td>\n",
       "      <td>...</td>\n",
       "      <td>...</td>\n",
       "      <td>...</td>\n",
       "      <td>...</td>\n",
       "      <td>...</td>\n",
       "      <td>...</td>\n",
       "      <td>...</td>\n",
       "      <td>...</td>\n",
       "    </tr>\n",
       "    <tr>\n",
       "      <th>9995</th>\n",
       "      <td>57.914327</td>\n",
       "      <td>44086.710685</td>\n",
       "      <td>67.770053</td>\n",
       "      <td>Female</td>\n",
       "      <td>Married</td>\n",
       "      <td>Master's</td>\n",
       "      <td>High</td>\n",
       "      <td>Balikpapan</td>\n",
       "      <td>Kalimantan Timur</td>\n",
       "    </tr>\n",
       "    <tr>\n",
       "      <th>9996</th>\n",
       "      <td>15.021515</td>\n",
       "      <td>72307.511004</td>\n",
       "      <td>1.870512</td>\n",
       "      <td>Female</td>\n",
       "      <td>Married</td>\n",
       "      <td>Master's</td>\n",
       "      <td>Low</td>\n",
       "      <td>Malang</td>\n",
       "      <td>Jawa Timur</td>\n",
       "    </tr>\n",
       "    <tr>\n",
       "      <th>9997</th>\n",
       "      <td>31.830883</td>\n",
       "      <td>43878.379554</td>\n",
       "      <td>65.746939</td>\n",
       "      <td>Male</td>\n",
       "      <td>Married</td>\n",
       "      <td>Master's</td>\n",
       "      <td>Low</td>\n",
       "      <td>Jakarta</td>\n",
       "      <td>DKI Jakarta</td>\n",
       "    </tr>\n",
       "    <tr>\n",
       "      <th>9998</th>\n",
       "      <td>47.444952</td>\n",
       "      <td>85542.179834</td>\n",
       "      <td>98.350702</td>\n",
       "      <td>Male</td>\n",
       "      <td>Divorced</td>\n",
       "      <td>Bachelor's</td>\n",
       "      <td>Low</td>\n",
       "      <td>Bandung</td>\n",
       "      <td>Jawa Barat</td>\n",
       "    </tr>\n",
       "    <tr>\n",
       "      <th>9999</th>\n",
       "      <td>49.377050</td>\n",
       "      <td>16155.892106</td>\n",
       "      <td>58.227571</td>\n",
       "      <td>Male</td>\n",
       "      <td>Single</td>\n",
       "      <td>PhD</td>\n",
       "      <td>Low</td>\n",
       "      <td>Jakarta</td>\n",
       "      <td>DKI Jakarta</td>\n",
       "    </tr>\n",
       "  </tbody>\n",
       "</table>\n",
       "<p>10000 rows × 9 columns</p>\n",
       "</div>"
      ],
      "text/plain": [
       "            Age        Salary     Height  Gender Marital Status  \\\n",
       "0     47.457284  25867.758709  40.880220  Female        Married   \n",
       "1     39.202564  31171.212403  42.934217  Female         Single   \n",
       "2     49.419951  26938.438051  76.937048  Female       Divorced   \n",
       "3     60.799388  38376.824337  33.346494  Female       Divorced   \n",
       "4     37.956006  66077.876060  89.834535    Male       Divorced   \n",
       "...         ...           ...        ...     ...            ...   \n",
       "9995  57.914327  44086.710685  67.770053  Female        Married   \n",
       "9996  15.021515  72307.511004   1.870512  Female        Married   \n",
       "9997  31.830883  43878.379554  65.746939    Male        Married   \n",
       "9998  47.444952  85542.179834  98.350702    Male       Divorced   \n",
       "9999  49.377050  16155.892106  58.227571    Male         Single   \n",
       "\n",
       "     Education Level Job Satisfaction        City          Province  \n",
       "0         Bachelor's              Low      Malang        Jawa Timur  \n",
       "1         Bachelor's              Low   Pontianak  Kalimantan Barat  \n",
       "2         Bachelor's             High       Depok        Jawa Barat  \n",
       "3                PhD             High       Bogor        Jawa Barat  \n",
       "4           Master's             High   Pontianak  Kalimantan Barat  \n",
       "...              ...              ...         ...               ...  \n",
       "9995        Master's             High  Balikpapan  Kalimantan Timur  \n",
       "9996        Master's              Low      Malang        Jawa Timur  \n",
       "9997        Master's              Low     Jakarta       DKI Jakarta  \n",
       "9998      Bachelor's              Low     Bandung        Jawa Barat  \n",
       "9999             PhD              Low     Jakarta       DKI Jakarta  \n",
       "\n",
       "[10000 rows x 9 columns]"
      ]
     },
     "execution_count": 215,
     "metadata": {},
     "output_type": "execute_result"
    }
   ],
   "source": [
    "import pandas as pd\n",
    "\n",
    "tugas = pd.read_csv(\"dataset_day5.csv\")                                                                 # pertama diimport dulu file dataset nya yang udah ada di folder yang sama (C:\\DATA\\Bootcamp Dibimbing\\DS29_Day6\\assignment)\n",
    "pd.set_option('display.max_columns', None)                                                              # syntax untuk melihat semua kolom di dataframe tanpa ada yg disembunyikan (None)\n",
    "\n",
    "\n",
    "tugas\n"
   ]
  },
  {
   "cell_type": "markdown",
   "metadata": {},
   "source": [
    "1. Bagaimana caranya supaya Barplot memiliki tampilan informatif ?"
   ]
  },
  {
   "cell_type": "code",
   "execution_count": 232,
   "metadata": {},
   "outputs": [
    {
     "name": "stdout",
     "output_type": "stream",
     "text": [
      "Daftar 10 kota dengan responden terbanyak:\n",
      "1. Banda Aceh: 546 responden\n",
      "2. Malang: 539 responden\n",
      "3. Jakarta: 535 responden\n",
      "4. Bekasi: 518 responden\n",
      "5. Balikpapan: 514 responden\n",
      "6. Palembang: 509 responden\n",
      "7. Depok: 509 responden\n",
      "8. Denpasar: 506 responden\n",
      "9. Bandung: 505 responden\n",
      "10. Makassar: 505 responden\n"
     ]
    },
    {
     "data": {
      "image/png": "[encoded data removed]",
      "text/plain": [
       "<Figure size 640x480 with 1 Axes>"
      ]
     },
     "metadata": {},
     "output_type": "display_data"
    }
   ],
   "source": [
    "import pandas as pd\n",
    "import matplotlib.pyplot as plt\n",
    "\n",
    "#contoh data kategori\n",
    "count_city = tugas['City'].value_counts().head(10)      # count_city = variabel baru | tugas['City'] = nampilin kolom kota dari variabel isi file csv | value_counts() = buat itung jumlah kemunculan tiap kateogori kota | .head(10) = buat nampilin 10 daftar teratas\n",
    "print(f\"Daftar 10 kota dengan responden terbanyak:\")    # untuk nampilin tipe data string berisi tulisan daftar 10 kota dengan responden terbanyak\n",
    "\n",
    "# Iterasi dengan penomoran menggunakan enumerate atau untuk memberi penomoran dari 1-10 sebelum nama kota\n",
    "for x, (kota, jumlah) in enumerate(count_city.head(10).items(), start=1):\n",
    "   print(f\"{x}. {kota}: {jumlah} responden\")\n",
    "\n",
    "# Membuat barplot dari hasil value_counts\n",
    "count_city.plot(kind='bar')\n",
    "plt.title(\"Jumlah Kota\")\n",
    "plt.xlabel(\"Nama Kota\")\n",
    "plt.ylabel(\"Jumlah\")\n",
    "plt.show()"
   ]
  },
  {
   "cell_type": "markdown",
   "metadata": {},
   "source": [
    "2. Tulis insightnya ya !\n",
    "\n",
    "Insight:\n",
    "\n",
    "1. Kota dengan Responden Terbanyak: Dari data yang ditampilkan, \"Banda Aceh\" menempati posisi pertama dengan 546 responden, diikuti oleh \"Malang\" dengan 539 responden, dan \"Jakarta\" dengan 535 responden. Ini menunjukkan bahwa ada beberapa kota dengan partisipasi responden yang lebih tinggi dibandingkan kota-kota lainnya.\n",
    "\n",
    "2. Distribusi Responden Teratas: Data menunjukkan bahwa kota-kota besar atau terkenal, baik di Jawa maupun luar Jawa, seperti Jakarta, Bandung, Makassar, dan Denpasar, berada dalam daftar kota dengan jumlah responden tinggi. Hal ini mungkin memberikan gambaran terkait keterlibatan masyarakat dari berbagai wilayah dalam survey atau riset yang dilakukan.\n",
    "\n",
    "3. Kemungkinan Faktor Penarik: Jumlah responden yang besar di kota-kota tertentu bisa jadi disebabkan oleh faktor-faktor seperti populasi kota yang besar, tingkat literasi atau kesadaran terhadap survey yang tinggi, atau akses mudah terhadap sarana informasi untuk menjawab survey."
   ]
  },
  {
   "cell_type": "markdown",
   "metadata": {},
   "source": [
    "##          "
   ]
  },
  {
   "cell_type": "markdown",
   "metadata": {},
   "source": [
    "**2.** Lakukan eksplorasi dan mencoba looping pada kolom dan baris dataframe `dataset_day5.csv`\n",
    "- for loop (15 poin)\n",
    "- while loop (15 poin)\n",
    "- nested loop (10 poin)\n",
    "\n",
    "`clue` nomer 2 :\n",
    "- pahamilah definisi dataframe pada `slide 4 PPT Data Type and Structure Part 2`\n",
    "- anggap dataframe memiliki `index` yang bisa kita looping serta `kolom` yang bisa kita akses sebagai `dictionary` maupun `list` atau `array`\n",
    "- pahami tentang `iterrows` dan `enumerate` pada dokumentasi ini :\n",
    "- https://pandas.pydata.org/docs/reference/api/pandas.DataFrame.iterrows.html\n",
    "- https://www.geeksforgeeks.org/enumerate-in-python/\n"
   ]
  },
  {
   "cell_type": "markdown",
   "metadata": {},
   "source": [
    "`Penyelesaian`:\n",
    "\n",
    "1. `For Loop`"
   ]
  },
  {
   "cell_type": "code",
   "execution_count": 216,
   "metadata": {},
   "outputs": [
    {
     "name": "stdout",
     "output_type": "stream",
     "text": [
      "Responden 0:\n",
      "    Age: 47.45728398914603\n",
      "    Salary: 25867.75870933382\n",
      "    Height: 40.88022038301296\n",
      "    Gender: Female\n",
      "    Marital Status: Married\n",
      "    Education Level: Bachelor's\n",
      "    Job Satisfaction: Low\n",
      "    City: Malang\n",
      "    Province: Jawa Timur\n",
      "Responden 1:\n",
      "    Age: 39.2025640847746\n",
      "    Salary: 31171.212402915\n",
      "    Height: 42.93421685631418\n",
      "    Gender: Female\n",
      "    Marital Status: Single\n",
      "    Education Level: Bachelor's\n",
      "    Job Satisfaction: Low\n",
      "    City: Pontianak\n",
      "    Province: Kalimantan Barat\n"
     ]
    }
   ],
   "source": [
    "# FOR LOOP\n",
    "# Looping untuk setiap baris di DataFrame\n",
    "for index, row in tugas.iterrows():                 \n",
    "    print(f\"Responden {index}:\")\n",
    "    for column, value in row.items():\n",
    "        print(f\"    {column}: {value}\")\n",
    "    # Menyudahi looping lebih awal untuk contoh\n",
    "    if index == 1: \n",
    "        break"
   ]
  },
  {
   "cell_type": "markdown",
   "metadata": {},
   "source": [
    "2. `While Loop`"
   ]
  },
  {
   "cell_type": "code",
   "execution_count": 217,
   "metadata": {},
   "outputs": [
    {
     "name": "stdout",
     "output_type": "stream",
     "text": [
      "responden 0 bergelar Bachelor's, saat ini berusia 47.45728398914603 dan berasal dari kota Malang.\n",
      "responden 1 bergelar Bachelor's, saat ini berusia 39.2025640847746 dan berasal dari kota Pontianak.\n",
      "responden 2 bergelar Bachelor's, saat ini berusia 49.419950995309 dan berasal dari kota Depok.\n",
      "responden 3 bergelar PhD, saat ini berusia 60.79938813330433 dan berasal dari kota Bogor.\n",
      "responden 4 bergelar Master's, saat ini berusia 37.95600612859664 dan berasal dari kota Pontianak.\n"
     ]
    }
   ],
   "source": [
    "# WHILE LOOP\n",
    "responden = 0\n",
    "while responden < len(tugas):\n",
    "    print(f\"responden {responden} bergelar {tugas.loc[responden,'Education Level']}, saat ini berusia {tugas.loc[responden, 'Age']} dan berasal dari kota {tugas.loc[responden, 'City']}.\")\n",
    "    responden += 1\n",
    "    if responden == 5:  # Contoh hanya untuk 5 baris pertama\n",
    "        break\n"
   ]
  },
  {
   "cell_type": "markdown",
   "metadata": {},
   "source": [
    "3. `Nested Loop`"
   ]
  },
  {
   "cell_type": "code",
   "execution_count": 218,
   "metadata": {},
   "outputs": [
    {
     "name": "stdout",
     "output_type": "stream",
     "text": [
      "Responden 1:\n",
      "  Age: 47.45728398914603\n",
      "  City: Malang\n",
      "  Education Level: Bachelor's\n",
      "  Salary: 25867.75870933382\n",
      "Responden 2:\n",
      "  Age: 39.2025640847746\n",
      "  City: Pontianak\n",
      "  Education Level: Bachelor's\n",
      "  Salary: 31171.212402915\n",
      "Responden 3:\n",
      "  Age: 49.419950995309\n",
      "  City: Depok\n",
      "  Education Level: Bachelor's\n",
      "  Salary: 26938.4380509639\n",
      "Responden 4:\n",
      "  Age: 60.79938813330433\n",
      "  City: Bogor\n",
      "  Education Level: PhD\n",
      "  Salary: 38376.82433650701\n",
      "Responden 5:\n",
      "  Age: 37.95600612859664\n",
      "  City: Pontianak\n",
      "  Education Level: Master's\n",
      "  Salary: 66077.87606011976\n"
     ]
    }
   ],
   "source": [
    "# NESTED LOOP\n",
    "pilihan_kolom = [\"Age\", \"City\", \"Education Level\", \"Salary\"]    # Kolom yang ingin dicek\n",
    "\n",
    "# Looping nested dengan enumerate\n",
    "for idx, (index, row) in enumerate(tugas.iterrows()):\n",
    "    print(f\"Responden {idx + 1}:\")                              # Menampilkan nomor responden yang dimulai dari 1\n",
    "    for column in pilihan_kolom:                                # Untuk setiap kolom di variabel pilihan_kolom, \n",
    "        print(f\"  {column}: {row[column]}\")                     #tampilkan setiap kolom yang sesuai dgn isi variabel, secara urut ke bawah\n",
    "    # Mengakhiri looping lebih awal sebagai contoh\n",
    "    if idx == 4:                                                # maksimal looping 4 kali, kalo udh 4 maka bakal selesai(break)\n",
    "        break\n"
   ]
  },
  {
   "cell_type": "markdown",
   "metadata": {},
   "source": [
    "##          "
   ]
  },
  {
   "cell_type": "markdown",
   "metadata": {},
   "source": [
    "**3.** Lakukan manipulasi yang menghasilkan insight apapun untuk memproses dataframe menggunakan `lambda function` pada :\n",
    "1. kolom numerikal (1 kolom) dan (12)\n",
    "2. kolom kategorikal (1 kolom) (13)\n",
    "3. Tulis insightnya (5)"
   ]
  },
  {
   "cell_type": "markdown",
   "metadata": {},
   "source": [
    "`Penyelesaian`:"
   ]
  },
  {
   "cell_type": "code",
   "execution_count": 213,
   "metadata": {},
   "outputs": [
    {
     "data": {
      "text/html": [
       "<div>\n",
       "<style scoped>\n",
       "    .dataframe tbody tr th:only-of-type {\n",
       "        vertical-align: middle;\n",
       "    }\n",
       "\n",
       "    .dataframe tbody tr th {\n",
       "        vertical-align: top;\n",
       "    }\n",
       "\n",
       "    .dataframe thead th {\n",
       "        text-align: right;\n",
       "    }\n",
       "</style>\n",
       "<table border=\"1\" class=\"dataframe\">\n",
       "  <thead>\n",
       "    <tr style=\"text-align: right;\">\n",
       "      <th></th>\n",
       "      <th>Age</th>\n",
       "      <th>Salary</th>\n",
       "      <th>Height</th>\n",
       "      <th>Gender</th>\n",
       "      <th>Marital Status</th>\n",
       "      <th>Education Level</th>\n",
       "      <th>Job Satisfaction</th>\n",
       "      <th>City</th>\n",
       "      <th>Province</th>\n",
       "    </tr>\n",
       "    <tr>\n",
       "      <th></th>\n",
       "      <th></th>\n",
       "      <th></th>\n",
       "      <th></th>\n",
       "      <th></th>\n",
       "      <th></th>\n",
       "      <th></th>\n",
       "      <th></th>\n",
       "      <th></th>\n",
       "      <th></th>\n",
       "    </tr>\n",
       "  </thead>\n",
       "  <tbody>\n",
       "    <tr>\n",
       "      <th>1</th>\n",
       "      <td>47</td>\n",
       "      <td>Rp 2.586.776</td>\n",
       "      <td>172</td>\n",
       "      <td>Female</td>\n",
       "      <td>Married</td>\n",
       "      <td>Bachelor's</td>\n",
       "      <td>Low</td>\n",
       "      <td>Malang</td>\n",
       "      <td>Jawa Timur</td>\n",
       "    </tr>\n",
       "    <tr>\n",
       "      <th>2</th>\n",
       "      <td>39</td>\n",
       "      <td>Rp 3.117.121</td>\n",
       "      <td>172</td>\n",
       "      <td>Female</td>\n",
       "      <td>Single</td>\n",
       "      <td>Bachelor's</td>\n",
       "      <td>Low</td>\n",
       "      <td>Pontianak</td>\n",
       "      <td>Kalimantan Barat</td>\n",
       "    </tr>\n",
       "    <tr>\n",
       "      <th>3</th>\n",
       "      <td>49</td>\n",
       "      <td>Rp 2.693.844</td>\n",
       "      <td>177</td>\n",
       "      <td>Female</td>\n",
       "      <td>Divorced</td>\n",
       "      <td>Bachelor's</td>\n",
       "      <td>High</td>\n",
       "      <td>Depok</td>\n",
       "      <td>Jawa Barat</td>\n",
       "    </tr>\n",
       "    <tr>\n",
       "      <th>4</th>\n",
       "      <td>60</td>\n",
       "      <td>Rp 3.837.682</td>\n",
       "      <td>172</td>\n",
       "      <td>Female</td>\n",
       "      <td>Divorced</td>\n",
       "      <td>PhD</td>\n",
       "      <td>High</td>\n",
       "      <td>Bogor</td>\n",
       "      <td>Jawa Barat</td>\n",
       "    </tr>\n",
       "    <tr>\n",
       "      <th>5</th>\n",
       "      <td>37</td>\n",
       "      <td>Rp 6.607.788</td>\n",
       "      <td>190</td>\n",
       "      <td>Male</td>\n",
       "      <td>Divorced</td>\n",
       "      <td>Master's</td>\n",
       "      <td>High</td>\n",
       "      <td>Pontianak</td>\n",
       "      <td>Kalimantan Barat</td>\n",
       "    </tr>\n",
       "    <tr>\n",
       "      <th>...</th>\n",
       "      <td>...</td>\n",
       "      <td>...</td>\n",
       "      <td>...</td>\n",
       "      <td>...</td>\n",
       "      <td>...</td>\n",
       "      <td>...</td>\n",
       "      <td>...</td>\n",
       "      <td>...</td>\n",
       "      <td>...</td>\n",
       "    </tr>\n",
       "    <tr>\n",
       "      <th>9996</th>\n",
       "      <td>57</td>\n",
       "      <td>Rp 4.408.671</td>\n",
       "      <td>168</td>\n",
       "      <td>Female</td>\n",
       "      <td>Married</td>\n",
       "      <td>Master's</td>\n",
       "      <td>High</td>\n",
       "      <td>Balikpapan</td>\n",
       "      <td>Kalimantan Timur</td>\n",
       "    </tr>\n",
       "    <tr>\n",
       "      <th>9997</th>\n",
       "      <td>15</td>\n",
       "      <td>Rp 7.230.751</td>\n",
       "      <td>172</td>\n",
       "      <td>Female</td>\n",
       "      <td>Married</td>\n",
       "      <td>Master's</td>\n",
       "      <td>Low</td>\n",
       "      <td>Malang</td>\n",
       "      <td>Jawa Timur</td>\n",
       "    </tr>\n",
       "    <tr>\n",
       "      <th>9998</th>\n",
       "      <td>31</td>\n",
       "      <td>Rp 4.387.838</td>\n",
       "      <td>166</td>\n",
       "      <td>Male</td>\n",
       "      <td>Married</td>\n",
       "      <td>Master's</td>\n",
       "      <td>Low</td>\n",
       "      <td>Jakarta</td>\n",
       "      <td>DKI Jakarta</td>\n",
       "    </tr>\n",
       "    <tr>\n",
       "      <th>9999</th>\n",
       "      <td>47</td>\n",
       "      <td>Rp 8.554.218</td>\n",
       "      <td>198</td>\n",
       "      <td>Male</td>\n",
       "      <td>Divorced</td>\n",
       "      <td>Bachelor's</td>\n",
       "      <td>Low</td>\n",
       "      <td>Bandung</td>\n",
       "      <td>Jawa Barat</td>\n",
       "    </tr>\n",
       "    <tr>\n",
       "      <th>10000</th>\n",
       "      <td>49</td>\n",
       "      <td>Rp 1.615.589</td>\n",
       "      <td>158</td>\n",
       "      <td>Male</td>\n",
       "      <td>Single</td>\n",
       "      <td>PhD</td>\n",
       "      <td>Low</td>\n",
       "      <td>Jakarta</td>\n",
       "      <td>DKI Jakarta</td>\n",
       "    </tr>\n",
       "  </tbody>\n",
       "</table>\n",
       "<p>10000 rows × 9 columns</p>\n",
       "</div>"
      ],
      "text/plain": [
       "       Age        Salary  Height  Gender Marital Status Education Level  \\\n",
       "                                                                          \n",
       "1       47  Rp 2.586.776     172  Female        Married      Bachelor's   \n",
       "2       39  Rp 3.117.121     172  Female         Single      Bachelor's   \n",
       "3       49  Rp 2.693.844     177  Female       Divorced      Bachelor's   \n",
       "4       60  Rp 3.837.682     172  Female       Divorced             PhD   \n",
       "5       37  Rp 6.607.788     190    Male       Divorced        Master's   \n",
       "...    ...           ...     ...     ...            ...             ...   \n",
       "9996    57  Rp 4.408.671     168  Female        Married        Master's   \n",
       "9997    15  Rp 7.230.751     172  Female        Married        Master's   \n",
       "9998    31  Rp 4.387.838     166    Male        Married        Master's   \n",
       "9999    47  Rp 8.554.218     198    Male       Divorced      Bachelor's   \n",
       "10000   49  Rp 1.615.589     158    Male         Single             PhD   \n",
       "\n",
       "      Job Satisfaction        City          Province  \n",
       "                                                      \n",
       "1                  Low      Malang        Jawa Timur  \n",
       "2                  Low   Pontianak  Kalimantan Barat  \n",
       "3                 High       Depok        Jawa Barat  \n",
       "4                 High       Bogor        Jawa Barat  \n",
       "5                 High   Pontianak  Kalimantan Barat  \n",
       "...                ...         ...               ...  \n",
       "9996              High  Balikpapan  Kalimantan Timur  \n",
       "9997               Low      Malang        Jawa Timur  \n",
       "9998               Low     Jakarta       DKI Jakarta  \n",
       "9999               Low     Bandung        Jawa Barat  \n",
       "10000              Low     Jakarta       DKI Jakarta  \n",
       "\n",
       "[10000 rows x 9 columns]"
      ]
     },
     "execution_count": 213,
     "metadata": {},
     "output_type": "execute_result"
    }
   ],
   "source": [
    "import pandas as pd\n",
    "\n",
    "tugas = pd.read_csv(\"dataset_day5.csv\")                                                                 # pertama diimport dulu file dataset nya yang udah ada di folder yang sama (C:\\DATA\\Bootcamp Dibimbing\\DS29_Day6\\assignment)\n",
    "pd.set_option('display.max_columns', None)                                                              # syntax untuk melihat semua kolom di dataframe tanpa ada yg disembunyikan (None)\n",
    "\n",
    "\n",
    "tugas['Age'] = tugas['Age'].astype(int)                                                                 # .astype(int)= untuk mengonversi nilai ke tipe int, yang akan menghilangkan koma dan angka desimalnya\n",
    "tugas['Salary'] = tugas['Salary'].apply(lambda x: \"Rp {:,.0f}\".format(x * 100).replace(',', '.'))       # Menambahkan 2 angka nol di belakang dan format mata uang rupiah dengan tanda titik.\n",
    "\n",
    "valid_height = tugas['Height'].between(50, 250)                                                         # Menentukan ambang batas untuk tinggi yang wajar (misalnya, antara 50 dan 250 cm)\n",
    "average_height = tugas.loc[valid_height, 'Height'].mean()                                               # Mengganti nilai di luar batas dengan rata-rata kolom yang valid\n",
    "tugas.loc[~valid_height, 'Height'] = average_height                                                     # Mengganti nilai di luar batas dengan rata-rata kolom yang valid\n",
    "tugas['Height'] = tugas['Height'].apply(lambda x: int(round(x)))                                        # Mengubah semua nilai di kolom 'Height' menjadi bilangan bulat (tanpa desimal)\n",
    "tugas['Height'] = tugas['Height'].apply(lambda x: int(round(x)) + 100)                                  # Menambah angka 100 pada hasil height untuk menyesuaikan dengan format cm di Indonesia\n",
    "\n",
    "tugas[''] = range(1, len(tugas) + 1)                                                                    # Tambahkan kolom baru untuk nomor urut\n",
    "tugas = tugas.set_index('')                                                                             # Pindahkan kolom 'No' ke posisi paling depan\n",
    "\n",
    "\n",
    "tugas\n"
   ]
  },
  {
   "cell_type": "code",
   "execution_count": 222,
   "metadata": {},
   "outputs": [
    {
     "data": {
      "text/html": [
       "<div>\n",
       "<style scoped>\n",
       "    .dataframe tbody tr th:only-of-type {\n",
       "        vertical-align: middle;\n",
       "    }\n",
       "\n",
       "    .dataframe tbody tr th {\n",
       "        vertical-align: top;\n",
       "    }\n",
       "\n",
       "    .dataframe thead th {\n",
       "        text-align: right;\n",
       "    }\n",
       "</style>\n",
       "<table border=\"1\" class=\"dataframe\">\n",
       "  <thead>\n",
       "    <tr style=\"text-align: right;\">\n",
       "      <th></th>\n",
       "      <th>Salary</th>\n",
       "    </tr>\n",
       "    <tr>\n",
       "      <th></th>\n",
       "      <th></th>\n",
       "    </tr>\n",
       "  </thead>\n",
       "  <tbody>\n",
       "    <tr>\n",
       "      <th>1</th>\n",
       "      <td>2586776</td>\n",
       "    </tr>\n",
       "    <tr>\n",
       "      <th>2</th>\n",
       "      <td>3117121</td>\n",
       "    </tr>\n",
       "    <tr>\n",
       "      <th>3</th>\n",
       "      <td>2693844</td>\n",
       "    </tr>\n",
       "    <tr>\n",
       "      <th>4</th>\n",
       "      <td>3837682</td>\n",
       "    </tr>\n",
       "    <tr>\n",
       "      <th>5</th>\n",
       "      <td>6607788</td>\n",
       "    </tr>\n",
       "    <tr>\n",
       "      <th>...</th>\n",
       "      <td>...</td>\n",
       "    </tr>\n",
       "    <tr>\n",
       "      <th>9996</th>\n",
       "      <td>4408671</td>\n",
       "    </tr>\n",
       "    <tr>\n",
       "      <th>9997</th>\n",
       "      <td>7230751</td>\n",
       "    </tr>\n",
       "    <tr>\n",
       "      <th>9998</th>\n",
       "      <td>4387838</td>\n",
       "    </tr>\n",
       "    <tr>\n",
       "      <th>9999</th>\n",
       "      <td>8554218</td>\n",
       "    </tr>\n",
       "    <tr>\n",
       "      <th>10000</th>\n",
       "      <td>1615589</td>\n",
       "    </tr>\n",
       "  </tbody>\n",
       "</table>\n",
       "<p>10000 rows × 1 columns</p>\n",
       "</div>"
      ],
      "text/plain": [
       "        Salary\n",
       "              \n",
       "1      2586776\n",
       "2      3117121\n",
       "3      2693844\n",
       "4      3837682\n",
       "5      6607788\n",
       "...        ...\n",
       "9996   4408671\n",
       "9997   7230751\n",
       "9998   4387838\n",
       "9999   8554218\n",
       "10000  1615589\n",
       "\n",
       "[10000 rows x 1 columns]"
      ]
     },
     "execution_count": 222,
     "metadata": {},
     "output_type": "execute_result"
    }
   ],
   "source": [
    "import pandas as pd\n",
    "\n",
    "tugas = pd.read_csv(\"dataset_day5.csv\")                                                                       # pertama diimport dulu file dataset nya yang udah ada di folder yang sama (C:\\DATA\\Bootcamp Dibimbing\\DS29_Day6\\assignment)\n",
    "pd.set_option('display.max_columns', None)                                                                    # syntax untuk melihat semua kolom di dataframe tanpa ada yg disembunyikan (None)\n",
    "\n",
    "\n",
    "tugas['Age'] = tugas['Age'].astype(int)                                                                       # .astype(int)= untuk mengonversi nilai ke tipe int, yang akan menghilangkan koma dan angka desimalnya\n",
    "tugas['Salary'] = tugas['Salary'].apply(lambda x: \"{:,.0f}\".format(x * 100).replace(',', '')).astype(int)     # Menambahkan 2 angka nol di belakang dan format mata uang rupiah dengan tanda titik\n",
    "\n",
    "valid_height = tugas['Height'].between(50, 250)                                                               # Menentukan ambang batas untuk tinggi yang wajar (misalnya, antara 50 dan 250 cm)\n",
    "average_height = tugas.loc[valid_height, 'Height'].mean()                                                     # Mengganti nilai di luar batas dengan rata-rata kolom yang valid\n",
    "tugas.loc[~valid_height, 'Height'] = average_height                                                           # Mengganti nilai di luar batas dengan rata-rata kolom yang valid\n",
    "tugas['Height'] = tugas['Height'].apply(lambda x: int(round(x)))                                              # Mengubah semua nilai di kolom 'Height' menjadi bilangan bulat (tanpa desimal)\n",
    "tugas['Height'] = tugas['Height'].apply(lambda x: int(round(x)) + 100)                                        # Menambah angka 100 pada hasil height untuk menyesuaikan dengan format cm di Indonesia\n",
    "\n",
    "tugas[''] = range(1, len(tugas) + 1)                                                                          # Tambahkan kolom baru untuk nomor urut\n",
    "tugas = tugas.set_index('')                                                                                   # Pindahkan kolom 'No' ke posisi paling depan\n",
    "\n",
    "\n",
    "tugas[['Salary']]\n"
   ]
  },
  {
   "cell_type": "markdown",
   "metadata": {},
   "source": [
    "1. `kolom Numerikal`"
   ]
  },
  {
   "cell_type": "code",
   "execution_count": 223,
   "metadata": {},
   "outputs": [
    {
     "name": "stdout",
     "output_type": "stream",
     "text": [
      "Nilai rata-rata gaji adalah Rp 4.144.117\n"
     ]
    }
   ],
   "source": [
    "# Kolom Salary\n",
    "rata_rata_gaji = tugas['Salary'].mean().astype(int)\n",
    "format_gaji = f\"Nilai rata-rata gaji adalah Rp {rata_rata_gaji:,}\".replace(',', '.')\n",
    "print(format_gaji)"
   ]
  },
  {
   "cell_type": "code",
   "execution_count": 224,
   "metadata": {},
   "outputs": [
    {
     "name": "stdout",
     "output_type": "stream",
     "text": [
      "Rata-rata usia dari responden adalah 40 tahun\n"
     ]
    }
   ],
   "source": [
    "# Kolom Age\n",
    "rerata_usia = str(tugas['Age'].mean().astype(int))\n",
    "print(\"Rata-rata usia dari responden adalah\", rerata_usia, \"tahun\")"
   ]
  },
  {
   "cell_type": "markdown",
   "metadata": {},
   "source": [
    "##          "
   ]
  },
  {
   "cell_type": "markdown",
   "metadata": {},
   "source": [
    "2. `kolom Kategorikal`"
   ]
  },
  {
   "cell_type": "code",
   "execution_count": 225,
   "metadata": {},
   "outputs": [
    {
     "data": {
      "text/plain": [
       "\n",
       "1        Perempuan\n",
       "2        Perempuan\n",
       "3        Perempuan\n",
       "4        Perempuan\n",
       "5        Laki-Laki\n",
       "           ...    \n",
       "9996     Perempuan\n",
       "9997     Perempuan\n",
       "9998     Laki-Laki\n",
       "9999     Laki-Laki\n",
       "10000    Laki-Laki\n",
       "Name: Gender_Ind, Length: 10000, dtype: object"
      ]
     },
     "execution_count": 225,
     "metadata": {},
     "output_type": "execute_result"
    }
   ],
   "source": [
    "# Kolom Gender\n",
    "tugas['Gender_Ind'] = tugas['Gender'].apply(lambda x: 'Laki-Laki' if x == 'Male' else 'Perempuan')\n",
    "\n",
    "tugas['Gender_Ind']"
   ]
  },
  {
   "cell_type": "markdown",
   "metadata": {},
   "source": [
    "3. `Insight`"
   ]
  },
  {
   "cell_type": "code",
   "execution_count": 230,
   "metadata": {},
   "outputs": [
    {
     "name": "stdout",
     "output_type": "stream",
     "text": [
      "Jumlah responden berdasarkan Level Education:\n",
      "1. Bachelor's: 3372 responden\n",
      "2. Master's: 3360 responden\n",
      "3. PhD: 3268 responden\n"
     ]
    },
    {
     "data": {
      "image/png": "[encoded data removed]",
      "text/plain": [
       "<Figure size 640x480 with 1 Axes>"
      ]
     },
     "metadata": {},
     "output_type": "display_data"
    }
   ],
   "source": [
    "count_education = tugas['Education Level'].value_counts().head(5)      \n",
    "print(f\"Jumlah responden berdasarkan Level Education:\")    \n",
    "\n",
    "for x, (education, jumlah) in enumerate(count_education.head(10).items(), start=1):\n",
    "    print(f\"{x}. {education}: {jumlah} responden\")\n",
    "\n",
    "# Membuat barplot dari hasil value_counts\n",
    "count_education.plot(kind='bar')\n",
    "plt.title(\"Jumlah responden berdasarkan Level Education\")\n",
    "plt.xlabel(\"Level Education\")\n",
    "plt.ylabel(\"Jumlah Responden\")\n",
    "plt.show()\n"
   ]
  },
  {
   "cell_type": "code",
   "execution_count": null,
   "metadata": {},
   "outputs": [],
   "source": []
  }
 ],
 "metadata": {
  "kernelspec": {
   "display_name": "Python 3",
   "language": "python",
   "name": "python3"
  },
  "language_info": {
   "codemirror_mode": {
    "name": "ipython",
    "version": 3
   },
   "file_extension": ".py",
   "mimetype": "text/x-python",
   "name": "python",
   "nbconvert_exporter": "python",
   "pygments_lexer": "ipython3",
   "version": "3.12.6"
  }
 },
 "nbformat": 4,
 "nbformat_minor": 2
}
