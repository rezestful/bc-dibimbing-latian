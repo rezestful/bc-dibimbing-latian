{
 "cells": [
  {
   "cell_type": "markdown",
   "metadata": {},
   "source": [
    "# Data Structure Algorithm (sangat penting bos!!!)"
   ]
  },
  {
   "cell_type": "markdown",
   "metadata": {},
   "source": [
    "# Numeric"
   ]
  },
  {
   "cell_type": "code",
   "execution_count": 3,
   "metadata": {},
   "outputs": [
    {
     "data": {
      "text/plain": [
       "str"
      ]
     },
     "execution_count": 3,
     "metadata": {},
     "output_type": "execute_result"
    }
   ],
   "source": [
    "angka_1 = '12'\n",
    "type(angka_1)"
   ]
  },
  {
   "cell_type": "code",
   "execution_count": 4,
   "metadata": {},
   "outputs": [
    {
     "data": {
      "text/plain": [
       "24"
      ]
     },
     "execution_count": 4,
     "metadata": {},
     "output_type": "execute_result"
    }
   ],
   "source": [
    "12 + 12"
   ]
  },
  {
   "cell_type": "code",
   "execution_count": 5,
   "metadata": {},
   "outputs": [
    {
     "data": {
      "text/plain": [
       "str"
      ]
     },
     "execution_count": 5,
     "metadata": {},
     "output_type": "execute_result"
    }
   ],
   "source": [
    "angka_1 = 30\n",
    "convert_str = str(angka_1)\n",
    "type(convert_str)"
   ]
  },
  {
   "cell_type": "code",
   "execution_count": 6,
   "metadata": {},
   "outputs": [
    {
     "data": {
      "text/plain": [
       "int"
      ]
     },
     "execution_count": 6,
     "metadata": {},
     "output_type": "execute_result"
    }
   ],
   "source": [
    "convert_int = int(angka_1)\n",
    "type(convert_int)"
   ]
  },
  {
   "cell_type": "code",
   "execution_count": 12,
   "metadata": {},
   "outputs": [],
   "source": [
    "angka_1 = float(input(\"Masukkan Angka Pertama : \"))\n",
    "angka_2 = float(input(\"Masukkan Angka ke-2\"))\n",
    "method = input(\"Pilih Operasi : (Perkalian, Tambah dan Kurang)\")\n",
    "\n",
    "if method.lower() == \"Penambahan\":\n",
    "    print(angka_1 + angka_2)\n",
    "elif method.lower() ==  \"Perkalian\":\n",
    "    print(angka_1 * angka_2)\n",
    "elif method.lower() == \"Pengurangan\":\n",
    "    print(angka_1 - angka_2)"
   ]
  },
  {
   "cell_type": "markdown",
   "metadata": {},
   "source": [
    "# Data Structure Algorithms\n",
    "\n",
    "DSA adalah sebuah tipe data yang dapat menyimpan sebuah atau lebih nilai. <br>\n",
    "\n",
    "1. List\n",
    "2. Tuple\n",
    "3. Set\n",
    "4. Dictionary"
   ]
  },
  {
   "cell_type": "markdown",
   "metadata": {},
   "source": [
    "## List\n",
    "List adalah sebuah tipe data yang dapat menyimpan berbagai jenis nilai, meskipun nilai yang tersimpan berbeda-beda. <br>\n",
    "contoh: [1,2,3,\"Reza\"]. <br>\n",
    "\n",
    "Ciri-ciri List: <br>\n",
    "1. List ditandai dengan tanda kurung siku '[ ]'\n",
    "2. List bisa dimodifikasi baik menambahkan value ke dalam list, menghapus dan memodifikasi nilai dalam sebuah list (mutable/dapat diubah-ubah)\n",
    "3. List dapat diconversi menjadi sebuah Tuple/Set\n",
    "4. List dapat di-looping baik itu FOR atau WHILE"
   ]
  },
  {
   "cell_type": "code",
   "execution_count": 25,
   "metadata": {},
   "outputs": [
    {
     "data": {
      "text/plain": [
       "list"
      ]
     },
     "execution_count": 25,
     "metadata": {},
     "output_type": "execute_result"
    }
   ],
   "source": [
    "list_student = [\"Reza\", \"Cipi\", \"Radya\", \"Heyzel\", 31, 22]\n",
    "\n",
    "type(list_student)"
   ]
  },
  {
   "cell_type": "markdown",
   "metadata": {},
   "source": [
    "## Operasi LIST"
   ]
  },
  {
   "cell_type": "markdown",
   "metadata": {},
   "source": [
    "### Indexing\n",
    "adalah sebuah method untuk mengakses value atau elemen pada posisi tertentu. INGAT: PYTHON dimulai index = 0"
   ]
  },
  {
   "cell_type": "code",
   "execution_count": 28,
   "metadata": {},
   "outputs": [
    {
     "data": {
      "text/plain": [
       "'Heyzel'"
      ]
     },
     "execution_count": 28,
     "metadata": {},
     "output_type": "execute_result"
    }
   ],
   "source": [
    "list_student[-3]"
   ]
  },
  {
   "cell_type": "markdown",
   "metadata": {},
   "source": [
    "### Slicing\n",
    "adalah sebuah method yang digunakan untuk mengambil nilai banyak sekaligus. var_list[start:end:step] <br>\n",
    "    - start adalah index awal <br>\n",
    "    - end adalah index terakhir. ingat bahwa index end harus ditambah 1"
   ]
  },
  {
   "cell_type": "code",
   "execution_count": 31,
   "metadata": {},
   "outputs": [
    {
     "data": {
      "text/plain": [
       "['Reza', 'Cipi', 'Radya', 'Heyzel', 31, 22]"
      ]
     },
     "execution_count": 31,
     "metadata": {},
     "output_type": "execute_result"
    }
   ],
   "source": [
    "list_student"
   ]
  },
  {
   "cell_type": "code",
   "execution_count": 36,
   "metadata": {},
   "outputs": [
    {
     "data": {
      "text/plain": [
       "[22, 31, 'Heyzel', 'Radya', 'Cipi']"
      ]
     },
     "execution_count": 36,
     "metadata": {},
     "output_type": "execute_result"
    }
   ],
   "source": [
    "list_student[5:0:-1] # reverse slicing"
   ]
  },
  {
   "cell_type": "markdown",
   "metadata": {},
   "source": [
    "### Modifikasi Pada List\n",
    "- Penambahan element ke dalam sebuah list :\n",
    "    'list.append(element)', append adalah sebuah function yang dipake untuk nambahin element di sebuah list"
   ]
  },
  {
   "cell_type": "code",
   "execution_count": 37,
   "metadata": {},
   "outputs": [
    {
     "data": {
      "text/plain": [
       "['Reza', 'Cipi', 'Radya', 'Heyzel', 31, 22]"
      ]
     },
     "execution_count": 37,
     "metadata": {},
     "output_type": "execute_result"
    }
   ],
   "source": [
    "list_student"
   ]
  },
  {
   "cell_type": "code",
   "execution_count": 40,
   "metadata": {},
   "outputs": [],
   "source": [
    "list_student.append(98)"
   ]
  },
  {
   "cell_type": "code",
   "execution_count": 41,
   "metadata": {},
   "outputs": [
    {
     "data": {
      "text/plain": [
       "['Reza', 'Cipi', 'Radya', 'Heyzel', 31, 22, 'Dewi', 98]"
      ]
     },
     "execution_count": 41,
     "metadata": {},
     "output_type": "execute_result"
    }
   ],
   "source": [
    "list_student"
   ]
  },
  {
   "cell_type": "markdown",
   "metadata": {},
   "source": [
    "## Extend <br>\n",
    "list.extend(list_2), extend adalah sebuah function yang digunakan element dari list lain ke list target"
   ]
  },
  {
   "cell_type": "code",
   "execution_count": 44,
   "metadata": {},
   "outputs": [],
   "source": [
    "list_other_student = [\"luffy\", \"zoro\", \"sabo\"]"
   ]
  },
  {
   "cell_type": "code",
   "execution_count": 45,
   "metadata": {},
   "outputs": [
    {
     "data": {
      "text/plain": [
       "['luffy', 'zoro', 'sabo']"
      ]
     },
     "execution_count": 45,
     "metadata": {},
     "output_type": "execute_result"
    }
   ],
   "source": [
    "list_other_student"
   ]
  },
  {
   "cell_type": "code",
   "execution_count": 46,
   "metadata": {},
   "outputs": [],
   "source": [
    "list_student.extend(list_other_student)"
   ]
  },
  {
   "cell_type": "code",
   "execution_count": 47,
   "metadata": {},
   "outputs": [
    {
     "data": {
      "text/plain": [
       "['Reza',\n",
       " 'Cipi',\n",
       " 'Radya',\n",
       " 'Heyzel',\n",
       " 31,\n",
       " 22,\n",
       " 'Dewi',\n",
       " 98,\n",
       " 'luffy',\n",
       " 'zoro',\n",
       " 'sabo']"
      ]
     },
     "execution_count": 47,
     "metadata": {},
     "output_type": "execute_result"
    }
   ],
   "source": [
    "list_student"
   ]
  },
  {
   "cell_type": "markdown",
   "metadata": {},
   "source": [
    "## Insert\n",
    "sebuah function untuk memasukkan element pada posisi tertentu. <br>\n",
    "`list.insert(index,element)"
   ]
  },
  {
   "cell_type": "code",
   "execution_count": 48,
   "metadata": {},
   "outputs": [],
   "source": [
    "list_student.insert(2,\"refina\")"
   ]
  },
  {
   "cell_type": "code",
   "execution_count": 49,
   "metadata": {},
   "outputs": [
    {
     "data": {
      "text/plain": [
       "['Reza',\n",
       " 'Cipi',\n",
       " 'refina',\n",
       " 'Radya',\n",
       " 'Heyzel',\n",
       " 31,\n",
       " 22,\n",
       " 'Dewi',\n",
       " 98,\n",
       " 'luffy',\n",
       " 'zoro',\n",
       " 'sabo']"
      ]
     },
     "execution_count": 49,
     "metadata": {},
     "output_type": "execute_result"
    }
   ],
   "source": [
    "list_student"
   ]
  },
  {
   "cell_type": "markdown",
   "metadata": {},
   "source": [
    "## Menghapus Element pada List\n",
    "    - pop : sebuah function yang akan menghapus element pada posisi tertentu\n",
    "    - remove : sebuah function yang akan menghapus berdasarkan element yang didefinisikan\n",
    "    - del : akan menghapus variable/memory yang menyimpan variable tersebut"
   ]
  },
  {
   "cell_type": "code",
   "execution_count": 50,
   "metadata": {},
   "outputs": [
    {
     "data": {
      "text/plain": [
       "'sabo'"
      ]
     },
     "execution_count": 50,
     "metadata": {},
     "output_type": "execute_result"
    }
   ],
   "source": [
    "list_student.pop(11)"
   ]
  },
  {
   "cell_type": "code",
   "execution_count": 51,
   "metadata": {},
   "outputs": [
    {
     "data": {
      "text/plain": [
       "['Reza',\n",
       " 'Cipi',\n",
       " 'refina',\n",
       " 'Radya',\n",
       " 'Heyzel',\n",
       " 31,\n",
       " 22,\n",
       " 'Dewi',\n",
       " 98,\n",
       " 'luffy',\n",
       " 'zoro']"
      ]
     },
     "execution_count": 51,
     "metadata": {},
     "output_type": "execute_result"
    }
   ],
   "source": [
    "list_student"
   ]
  },
  {
   "cell_type": "code",
   "execution_count": 52,
   "metadata": {},
   "outputs": [],
   "source": [
    "#remove\n",
    "list_student.remove(98)"
   ]
  },
  {
   "cell_type": "code",
   "execution_count": 53,
   "metadata": {},
   "outputs": [
    {
     "data": {
      "text/plain": [
       "['Reza', 'Cipi', 'refina', 'Radya', 'Heyzel', 31, 22, 'Dewi', 'luffy', 'zoro']"
      ]
     },
     "execution_count": 53,
     "metadata": {},
     "output_type": "execute_result"
    }
   ],
   "source": [
    "list_student"
   ]
  },
  {
   "cell_type": "markdown",
   "metadata": {},
   "source": [
    "## Modifikasi Element dalam List"
   ]
  },
  {
   "cell_type": "code",
   "execution_count": 56,
   "metadata": {},
   "outputs": [
    {
     "data": {
      "text/plain": [
       "['bunga mawar',\n",
       " 'bunga tulip',\n",
       " 'bunga anggrek',\n",
       " 'bunga bangkai',\n",
       " 'bunga melati']"
      ]
     },
     "execution_count": 56,
     "metadata": {},
     "output_type": "execute_result"
    }
   ],
   "source": [
    "list_bunga = [\"mawar\", \"tulip\", \"anggrek\", \"bangkai\", \"melati\"]\n",
    "\n",
    "#looping\n",
    "#list comprehension\n",
    "list_bunga_baru = ['bunga ' + bunga for bunga in list_bunga]\n",
    "list_bunga_baru"
   ]
  },
  {
   "cell_type": "code",
   "execution_count": 59,
   "metadata": {},
   "outputs": [],
   "source": [
    "list_bunga_baru = []\n",
    "\n",
    "for bunga in list_bunga:\n",
    "    list_bunga_baru.append(\"bunga \" + bunga)"
   ]
  },
  {
   "cell_type": "code",
   "execution_count": 60,
   "metadata": {},
   "outputs": [
    {
     "data": {
      "text/plain": [
       "['bunga mawar',\n",
       " 'bunga tulip',\n",
       " 'bunga anggrek',\n",
       " 'bunga bangkai',\n",
       " 'bunga melati']"
      ]
     },
     "execution_count": 60,
     "metadata": {},
     "output_type": "execute_result"
    }
   ],
   "source": [
    "list_bunga_baru"
   ]
  },
  {
   "cell_type": "code",
   "execution_count": 63,
   "metadata": {},
   "outputs": [
    {
     "data": {
      "text/plain": [
       "['roti', 'es krim', 'waffle']"
      ]
     },
     "execution_count": 63,
     "metadata": {},
     "output_type": "execute_result"
    }
   ],
   "source": [
    "#contoh lain\n",
    "\n",
    "daftar_coklat = [\"roti\", \"es krim\", \"waffle\"]\n",
    "daftar_coklat"
   ]
  },
  {
   "cell_type": "code",
   "execution_count": 66,
   "metadata": {},
   "outputs": [
    {
     "data": {
      "text/plain": [
       "['roti coklat', 'es krim coklat', 'waffle coklat']"
      ]
     },
     "execution_count": 66,
     "metadata": {},
     "output_type": "execute_result"
    }
   ],
   "source": [
    "daftar_coklat_baru = []\n",
    "\n",
    "for coklat in daftar_coklat:\n",
    "    daftar_coklat_baru.append(coklat + \" coklat\")\n",
    "\n",
    "daftar_coklat_baru"
   ]
  },
  {
   "cell_type": "code",
   "execution_count": 69,
   "metadata": {},
   "outputs": [
    {
     "name": "stdout",
     "output_type": "stream",
     "text": [
      "rata rata nilai : 82.5\n"
     ]
    }
   ],
   "source": [
    "# menghitung rata-rata student\n",
    "list_nilai = [95, 85, 90, 80, 75, 70,]\n",
    "\n",
    "total_nilai = 0\n",
    "\n",
    "for nilai in list_nilai:\n",
    "    total_nilai += nilai\n",
    "\n",
    "rata_rata = total_nilai / len(list_nilai)\n",
    "print(f\"rata rata nilai : {rata_rata}\")"
   ]
  },
  {
   "cell_type": "code",
   "execution_count": 73,
   "metadata": {},
   "outputs": [
    {
     "data": {
      "text/plain": [
       "['Lulus', 'Lulus', 'Lulus', 'Tidak Lulus', 'Tidak Lulus', 'Tidak Lulus']"
      ]
     },
     "execution_count": 73,
     "metadata": {},
     "output_type": "execute_result"
    }
   ],
   "source": [
    "# list komperhension\n",
    "# ada 2\n",
    "\n",
    "list_lulus = []\n",
    "\n",
    "for x in list_nilai:\n",
    "    if x > rata_rata:\n",
    "        list_lulus.append(\"Lulus\")\n",
    "    else:\n",
    "        list_lulus.append(\"Tidak Lulus\")\n",
    "\n",
    "list_lulus"
   ]
  },
  {
   "cell_type": "markdown",
   "metadata": {},
   "source": [
    "# buatlah list berat orang dan berikan tanda kurus jika di bawah rata-rata, selain itu obesitas"
   ]
  },
  {
   "cell_type": "code",
   "execution_count": 85,
   "metadata": {},
   "outputs": [
    {
     "data": {
      "text/plain": [
       "[90, 80, 75, 60, 55, 50]"
      ]
     },
     "execution_count": 85,
     "metadata": {},
     "output_type": "execute_result"
    }
   ],
   "source": [
    "berat_orang = [90, 80, 75, 60, 55, 50]\n",
    "\n",
    "berat_orang"
   ]
  },
  {
   "cell_type": "code",
   "execution_count": 87,
   "metadata": {},
   "outputs": [
    {
     "name": "stdout",
     "output_type": "stream",
     "text": [
      "rata rata berat : 68.33333333333333\n"
     ]
    }
   ],
   "source": [
    "berat_orang = [90, 80, 75, 60, 55, 50]\n",
    "\n",
    "total_berat_orang = 0\n",
    "\n",
    "for berat in berat_orang:\n",
    "    total_berat_orang += berat\n",
    "\n",
    "rata_rata_berat = total_berat_orang / len(berat_orang)\n",
    "print(f\"rata rata berat : {rata_rata_berat}\")"
   ]
  },
  {
   "cell_type": "code",
   "execution_count": 91,
   "metadata": {},
   "outputs": [
    {
     "data": {
      "text/plain": [
       "['obesitas', 'obesitas', 'obesitas', 'kurus', 'kurus', 'kurus']"
      ]
     },
     "execution_count": 91,
     "metadata": {},
     "output_type": "execute_result"
    }
   ],
   "source": [
    "list_status = []\n",
    "\n",
    "for x in berat_orang:\n",
    "    if x > rata_rata_berat:\n",
    "        list_status.append(\"obesitas\")\n",
    "    else:\n",
    "        list_status.append(\"kurus\")\n",
    "\n",
    "list_status\n",
    "\n",
    "#done"
   ]
  },
  {
   "cell_type": "markdown",
   "metadata": {},
   "source": [
    "## Tuple"
   ]
  },
  {
   "cell_type": "markdown",
   "metadata": {},
   "source": [
    "Tuple adalah tipe data yang menyimpan element dengan berbagai type. Tuple bisa di index, slicing, tetapi tidak dapat di modifikasi <br>\n",
    "\n",
    "tuple dibentuk dengan tanda kurung bulat `()`"
   ]
  },
  {
   "cell_type": "code",
   "execution_count": 94,
   "metadata": {},
   "outputs": [
    {
     "data": {
      "text/plain": [
       "tuple"
      ]
     },
     "execution_count": 94,
     "metadata": {},
     "output_type": "execute_result"
    }
   ],
   "source": [
    "tuple_1 = (1,2,3,4)\n",
    "type(tuple_1)"
   ]
  },
  {
   "cell_type": "code",
   "execution_count": 92,
   "metadata": {},
   "outputs": [
    {
     "data": {
      "text/plain": [
       "list"
      ]
     },
     "execution_count": 92,
     "metadata": {},
     "output_type": "execute_result"
    }
   ],
   "source": [
    "# untuk bisa memanipulasi tuple maka perlu dilakukan konversi dari tuple menjadi list\n",
    "tuple_1 = (1,2,3,4)\n",
    "tuple_to_list = list(tuple_1)\n",
    "type(tuple_to_list)"
   ]
  },
  {
   "cell_type": "code",
   "execution_count": 93,
   "metadata": {},
   "outputs": [
    {
     "data": {
      "text/plain": [
       "(1, 2, 3, 4, 15)"
      ]
     },
     "execution_count": 93,
     "metadata": {},
     "output_type": "execute_result"
    }
   ],
   "source": [
    "tuple_to_list.append(15)\n",
    "tuple_1 = tuple(tuple_to_list)\n",
    "tuple_1"
   ]
  },
  {
   "cell_type": "code",
   "execution_count": null,
   "metadata": {},
   "outputs": [],
   "source": []
  }
 ],
 "metadata": {
  "kernelspec": {
   "display_name": "Python 3",
   "language": "python",
   "name": "python3"
  },
  "language_info": {
   "codemirror_mode": {
    "name": "ipython",
    "version": 3
   },
   "file_extension": ".py",
   "mimetype": "text/x-python",
   "name": "python",
   "nbconvert_exporter": "python",
   "pygments_lexer": "ipython3",
   "version": "3.12.6"
  }
 },
 "nbformat": 4,
 "nbformat_minor": 2
}
